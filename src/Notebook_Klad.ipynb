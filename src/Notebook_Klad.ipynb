{
 "cells": [
  {
   "cell_type": "code",
   "execution_count": 1,
   "metadata": {
    "collapsed": true
   },
   "outputs": [],
   "source": [
    "import torch\n",
    "from rnn_model import EncoderRNN, AttnDecoderRNN\n",
    "from rnn_model_train import trainIters\n",
    "\n",
    "import data_preparation as dp\n",
    "import filepaths as fp\n",
    "from rnn_model_predict import predict\n",
    "from plots import showPlot, showAttention"
   ]
  },
  {
   "cell_type": "code",
   "execution_count": 2,
   "metadata": {},
   "outputs": [],
   "source": [
    "(slang, tlang, index_array_pairs) = dp.prepare_training_data(\n",
    "    fp.spath_toy, fp.tpath_toy, False)\n",
    "\n",
    "max_length = 0\n",
    "for pair in index_array_pairs:\n",
    "    max_length = max(len(pair[0]), len(pair[1]), max_length)"
   ]
  },
  {
   "cell_type": "code",
   "execution_count": 3,
   "metadata": {},
   "outputs": [],
   "source": [
    "device = torch.device(\"cuda\" if torch.cuda.is_available() else \"cpu\")\n",
    "hidden_size = 256 #256\n",
    "\n",
    "encoder1 = EncoderRNN(slang.n_words, hidden_size).to(device)\n",
    "attn_decoder1 = AttnDecoderRNN(hidden_size, tlang.n_words, max_length, dropout_p=0.1).to(device)\n"
   ]
  },
  {
   "cell_type": "code",
   "execution_count": 4,
   "metadata": {},
   "outputs": [
    {
     "name": "stdout",
     "output_type": "stream",
     "text": [
      "0m 6s (- 0m 59s) (150 10%) 3.4232\n",
      "0m 12s (- 0m 48s) (300 20%) 3.1834\n",
      "0m 17s (- 0m 41s) (450 30%) 2.7541\n",
      "0m 23s (- 0m 35s) (600 40%) 2.7711\n",
      "0m 29s (- 0m 29s) (750 50%) 2.2628\n",
      "0m 36s (- 0m 24s) (900 60%) 1.4801\n",
      "0m 42s (- 0m 18s) (1050 70%) 0.8756\n",
      "0m 49s (- 0m 12s) (1200 80%) 0.2225\n",
      "0m 56s (- 0m 6s) (1350 90%) 0.0914\n",
      "1m 3s (- 0m 0s) (1500 100%) 0.0611\n"
     ]
    }
   ],
   "source": [
    "plot_losses = trainIters(\n",
    "    index_array_pairs, encoder1, attn_decoder1,  \n",
    "    1500, max_length, print_every=150, plot_every=15 )"
   ]
  },
  {
   "cell_type": "code",
   "execution_count": null,
   "metadata": {},
   "outputs": [],
   "source": [
    "for pair in index_array_pairs:\n",
    "    s_indices = pair[0]\n",
    "#     print(s_tensor)\n",
    "    t_indices, a = predict(encoder1, attn_decoder1, s_indices, max_length)\n",
    "    print(dp.sentenceFromIndexes(tlang, t_indices))\n",
    "        "
   ]
  },
  {
   "cell_type": "code",
   "execution_count": null,
   "metadata": {},
   "outputs": [],
   "source": [
    "showPlot(plot_losses)\n"
   ]
  },
  {
   "cell_type": "code",
   "execution_count": null,
   "metadata": {
    "collapsed": true
   },
   "outputs": [],
   "source": [
    "# TODO: plot loss, fix x-axis labels (100 => 100*plot_iter)\n",
    "# TODO: detokenizing and true-casing\n",
    "# TODO: move max_length to data_preparation"
   ]
  },
  {
   "cell_type": "code",
   "execution_count": 14,
   "metadata": {},
   "outputs": [
    {
     "data": {
      "image/png": "[encoded data removed]",
      "text/plain": [
       "<Figure size 432x288 with 2 Axes>"
      ]
     },
     "metadata": {},
     "output_type": "display_data"
    }
   ],
   "source": [
    "import random\n",
    "\n",
    "pair = random.choice(index_array_pairs)\n",
    "s_indices = pair[0]\n",
    "t_indices, attentions = predict(encoder1, attn_decoder1, s_indices, max_length)\n",
    "\n",
    "#s_sentence = dp.sentenceFromIndexes(slang, s_indices)\n",
    "s_words = dp.wordsFromIndexes(slang, s_indices)\n",
    "t_words = dp.wordsFromIndexes(tlang, t_indices)\n",
    "showAttention(s_words, t_words, attentions)"
   ]
  },
  {
   "cell_type": "code",
   "execution_count": null,
   "metadata": {},
   "outputs": [],
   "source": [
    "[''] + input_sentence.split(' ') +\n",
    "                       ['<EOS>']in"
   ]
  },
  {
   "cell_type": "code",
   "execution_count": null,
   "metadata": {
    "collapsed": true
   },
   "outputs": [],
   "source": []
  }
 ],
 "metadata": {
  "kernelspec": {
   "display_name": "Python 3",
   "language": "python",
   "name": "python3"
  },
  "language_info": {
   "codemirror_mode": {
    "name": "ipython",
    "version": 3
   },
   "file_extension": ".py",
   "mimetype": "text/x-python",
   "name": "python",
   "nbconvert_exporter": "python",
   "pygments_lexer": "ipython3",
   "version": "3.6.5"
  }
 },
 "nbformat": 4,
 "nbformat_minor": 2
}
