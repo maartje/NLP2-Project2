{
 "cells": [
  {
   "cell_type": "code",
   "execution_count": 1,
   "metadata": {
    "collapsed": true
   },
   "outputs": [],
   "source": [
    "import torch\n",
    "from rnn_model import EncoderRNN, AttnDecoderRNN\n",
    "from rnn_model_train import trainIters\n",
    "\n",
    "import data_preparation as dp\n",
    "import filepaths as fp\n",
    "from rnn_model_predict import predict\n",
    "from plots import showPlot"
   ]
  },
  {
   "cell_type": "code",
   "execution_count": 2,
   "metadata": {},
   "outputs": [],
   "source": [
    "(slang, tlang, index_array_pairs) = dp.prepare_training_data(\n",
    "    fp.spath_toy, fp.tpath_toy, False)\n",
    "\n",
    "max_length = 0\n",
    "for pair in index_array_pairs:\n",
    "    max_length = max(len(pair[0]), len(pair[1]), max_length)"
   ]
  },
  {
   "cell_type": "code",
   "execution_count": 3,
   "metadata": {},
   "outputs": [],
   "source": [
    "device = torch.device(\"cuda\" if torch.cuda.is_available() else \"cpu\")\n",
    "hidden_size = 256 #256\n",
    "\n",
    "encoder1 = EncoderRNN(slang.n_words, hidden_size).to(device)\n",
    "attn_decoder1 = AttnDecoderRNN(hidden_size, tlang.n_words, max_length, dropout_p=0.1).to(device)\n"
   ]
  },
  {
   "cell_type": "code",
   "execution_count": 6,
   "metadata": {},
   "outputs": [
    {
     "name": "stdout",
     "output_type": "stream",
     "text": [
      "0m 6s (- 1m 1s) (150 10%) 3.1495\n",
      "0m 13s (- 0m 54s) (300 20%) 3.1340\n",
      "0m 20s (- 0m 48s) (450 30%) 2.9548\n",
      "0m 28s (- 0m 42s) (600 40%) 2.6383\n",
      "0m 36s (- 0m 36s) (750 50%) 2.2715\n",
      "0m 44s (- 0m 29s) (900 60%) 1.5840\n",
      "0m 53s (- 0m 22s) (1050 70%) 0.8749\n",
      "1m 1s (- 0m 15s) (1200 80%) 0.2627\n",
      "1m 10s (- 0m 7s) (1350 90%) 0.1010\n",
      "1m 18s (- 0m 0s) (1500 100%) 0.0632\n"
     ]
    }
   ],
   "source": [
    "plot_losses = trainIters(\n",
    "    index_array_pairs, encoder1, attn_decoder1,  \n",
    "    1500, max_length, print_every=150, plot_every=15 )"
   ]
  },
  {
   "cell_type": "code",
   "execution_count": 7,
   "metadata": {},
   "outputs": [
    {
     "name": "stdout",
     "output_type": "stream",
     "text": [
      "a man and a woman walking in the city .\n",
      "\n",
      "a waterfall in a forest with many trees .\n",
      "\n",
      "a bee hovering over purple and orange flowers .\n",
      "\n",
      "a calm lake surrounded by trees and rocks .\n",
      "\n",
      "two people on a football field one on the ground .\n",
      "\n",
      "a young man performs an aerial stunt on a skateboard .\n",
      "\n",
      "two dogs running along the beach .\n",
      "\n",
      "a dog is running beside a body of water .\n",
      "\n",
      "a cyclist is wearing a helmet .\n",
      "\n",
      "a man wearing a black hat is shooting a rifle outside .\n",
      "\n",
      "a small child outside with autumn leaves blowing around her face .\n",
      "\n",
      "a bright red boat on perfectly calm blue water .\n",
      "\n",
      "a wooden walkway leading up a grassy slope under a blue sky .\n",
      "\n",
      "a bike race is taking place with spectators watching .\n",
      "\n",
      "a four wheeled wooden cart parked on a a wooden platform .\n",
      "\n",
      "customers are standing outside of a convenience store .\n",
      "\n",
      "a woman poses on a rocky beach as her friend takes a photo .\n",
      "\n",
      "a man and two girls playing on the shore of the beach .\n",
      "\n",
      "a little girl playing with her toys in the sand .\n",
      "\n",
      "a man in pinstripe pants is performing a concert .\n",
      "\n",
      "two people laying on the sidewalk in front of a wall of graffiti .\n",
      "\n",
      "a body of water with sunshine breaking through clouds .\n",
      "\n",
      "a plane with a banner flying above a beach with people on the sand and in the water .\n",
      "\n",
      "a white small jet taking off with water to the side .\n",
      "\n",
      "a young girl poses fiercely while using exercise equipment .\n",
      "\n",
      "privately owned poster and restaurant poster .\n",
      "\n",
      "pines , and some background mountains with snow .\n",
      "\n",
      "a women bending over with a kissing expression at a black primate creature while standing on a harwood floor .\n"
     ]
    }
   ],
   "source": [
    "for pair in index_array_pairs:\n",
    "    s_indices = pair[0]\n",
    "#     print(s_tensor)\n",
    "    t_indices, a = predict(encoder1, attn_decoder1, s_indices, max_length)\n",
    "    print(dp.sentenceFromIndexes(tlang, t_indices))\n",
    "        "
   ]
  },
  {
   "cell_type": "code",
   "execution_count": 4,
   "metadata": {},
   "outputs": [
    {
     "data": {
      "text/plain": [
       "<Figure size 432x288 with 0 Axes>"
      ]
     },
     "metadata": {},
     "output_type": "display_data"
    },
    {
     "data": {
      "image/png": "[encoded data removed]",
      "text/plain": [
       "<Figure size 432x288 with 1 Axes>"
      ]
     },
     "metadata": {},
     "output_type": "display_data"
    }
   ],
   "source": [
    "showPlot(plot_losses)\n"
   ]
  },
  {
   "cell_type": "code",
   "execution_count": null,
   "metadata": {
    "collapsed": true
   },
   "outputs": [],
   "source": []
  }
 ],
 "metadata": {
  "kernelspec": {
   "display_name": "Python 3",
   "language": "python",
   "name": "python3"
  },
  "language_info": {
   "codemirror_mode": {
    "name": "ipython",
    "version": 3
   },
   "file_extension": ".py",
   "mimetype": "text/x-python",
   "name": "python",
   "nbconvert_exporter": "python",
   "pygments_lexer": "ipython3",
   "version": "3.6.5"
  }
 },
 "nbformat": 4,
 "nbformat_minor": 2
}
