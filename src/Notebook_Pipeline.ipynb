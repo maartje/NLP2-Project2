{
 "cells": [
  {
   "cell_type": "code",
   "execution_count": 1,
   "metadata": {
    "collapsed": true
   },
   "outputs": [],
   "source": [
    "import filepaths as fp\n",
    "import evaluate\n",
    "\n",
    "path_to_predicted = fp.path_to_predicted(fp.tpath_toy)\n",
    "path_to_preprocessed = fp.path_to_preprocessed(fp.tpath_toy)\n",
    "path_to_BLUE = fp.path_to_bleu(fp.tpath_toy)\n",
    "evaluate.BLUE(path_to_predicted, path_to_preprocessed, path_to_BLUE)"
   ]
  },
  {
   "cell_type": "code",
   "execution_count": 2,
   "metadata": {},
   "outputs": [
    {
     "name": "stdout",
     "output_type": "stream",
     "text": [
      "warning: uses cached preprocessed file ../output/toy.preprocessed.fr\n",
      "warning: uses cached preprocessed file ../output/toy.preprocessed.en\n",
      "0m 3s (- 1m 21s) (60 4%) 3.5173\n",
      "0m 6s (- 1m 17s) (120 8%) 3.3562\n",
      "0m 10s (- 1m 13s) (180 12%) 3.1839\n",
      "0m 13s (- 1m 11s) (240 16%) 3.1910\n",
      "0m 17s (- 1m 8s) (300 20%) 2.9151\n",
      "0m 20s (- 1m 4s) (360 24%) 2.9353\n",
      "0m 24s (- 1m 1s) (420 28%) 2.8303\n",
      "0m 27s (- 0m 58s) (480 32%) 2.6787\n",
      "0m 30s (- 0m 54s) (540 36%) 2.5395\n",
      "0m 34s (- 0m 51s) (600 40%) 2.6687\n",
      "0m 37s (- 0m 47s) (660 44%) 2.3357\n",
      "0m 40s (- 0m 43s) (720 48%) 2.0434\n",
      "0m 43s (- 0m 40s) (780 52%) 1.7401\n",
      "0m 47s (- 0m 37s) (840 56%) 1.5253\n",
      "0m 51s (- 0m 34s) (900 60%) 1.3527\n",
      "0m 54s (- 0m 30s) (960 64%) 0.8399\n",
      "0m 58s (- 0m 27s) (1020 68%) 0.6578\n",
      "1m 2s (- 0m 24s) (1080 72%) 0.5405\n",
      "1m 6s (- 0m 20s) (1140 76%) 0.2861\n",
      "1m 9s (- 0m 17s) (1200 80%) 0.1351\n",
      "1m 14s (- 0m 14s) (1260 84%) 0.0966\n",
      "1m 20s (- 0m 10s) (1320 88%) 0.0911\n",
      "1m 28s (- 0m 7s) (1380 92%) 0.0673\n",
      "1m 35s (- 0m 3s) (1440 96%) 0.0657\n",
      "1m 41s (- 0m 0s) (1500 100%) 0.0518\n"
     ]
    },
    {
     "data": {
      "text/plain": [
       "<Figure size 432x288 with 0 Axes>"
      ]
     },
     "metadata": {},
     "output_type": "display_data"
    },
    {
     "data": {
      "image/png": "[encoded data removed]",
      "text/plain": [
       "<Figure size 432x288 with 1 Axes>"
      ]
     },
     "metadata": {},
     "output_type": "display_data"
    },
    {
     "name": "stdout",
     "output_type": "stream",
     "text": [
      "Losses diagram saved in TODO\n",
      "Models saved in TODO\n"
     ]
    },
    {
     "ename": "NameError",
     "evalue": "name 'evaluate' is not defined",
     "output_type": "error",
     "traceback": [
      "\u001b[0;31m---------------------------------------------------------------------------\u001b[0m",
      "\u001b[0;31mNameError\u001b[0m                                 Traceback (most recent call last)",
      "\u001b[0;32m<ipython-input-2-2611f90fd7e1>\u001b[0m in \u001b[0;36m<module>\u001b[0;34m()\u001b[0m\n\u001b[1;32m      5\u001b[0m     fp.spath_toy, fp.tpath_toy, 1500, hidden_size = 256, dropout_p =0.1)\n\u001b[1;32m      6\u001b[0m \u001b[0;34m\u001b[0m\u001b[0m\n\u001b[0;32m----> 7\u001b[0;31m evaluate(fp.spath_toy, fp.tpath_toy, slang, tlang, \n\u001b[0m\u001b[1;32m      8\u001b[0m     encoder1, attn_decoder1, max_length, useCache = True)\n",
      "\u001b[0;31mNameError\u001b[0m: name 'evaluate' is not defined"
     ]
    }
   ],
   "source": [
    "import pipeline\n",
    "import filepaths as fp\n",
    "\n",
    "(encoder1, attn_decoder1, slang, tlang, max_length) = pipeline.train(\n",
    "    fp.spath_toy, fp.tpath_toy, 1500, hidden_size = 256, dropout_p =0.1)\n",
    "\n",
    "pipeline.evaluate(fp.spath_toy, fp.tpath_toy, slang, tlang, \n",
    "    encoder1, attn_decoder1, max_length, useCache = True)"
   ]
  },
  {
   "cell_type": "code",
   "execution_count": null,
   "metadata": {
    "collapsed": true
   },
   "outputs": [],
   "source": []
  }
 ],
 "metadata": {
  "kernelspec": {
   "display_name": "Python 3",
   "language": "python",
   "name": "python3"
  },
  "language_info": {
   "codemirror_mode": {
    "name": "ipython",
    "version": 3
   },
   "file_extension": ".py",
   "mimetype": "text/x-python",
   "name": "python",
   "nbconvert_exporter": "python",
   "pygments_lexer": "ipython3",
   "version": "3.6.5"
  }
 },
 "nbformat": 4,
 "nbformat_minor": 2
}
